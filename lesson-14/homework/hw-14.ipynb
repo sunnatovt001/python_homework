# Homework
#Lesson-14


#Task: JSON Parsing
#write a Python script that reads the students.json JSON file and prints details of each student.

import json

# JSON fayl nomi
FILENAME = 'students.json'

# Faylni o‘qish
with open(FILENAME, 'r', encoding='utf-8') as file:
    data = json.load(file)

# Har bir talaba haqida ma’lumot chiqarish
for student in data:
    print("Name:", student["name"])
    print("Age:", student["age"])
    print("Grade:", student["grade"])
    print("-" * 20)





  #Task: Weather API
#Use this url : https://openweathermap.org/
#Use the requests library to fetch weather data for a specific city(ex. your hometown: Tashkent) and print relevant information (temperature, humidity, etc.).

import requests

API_KEY = 'a7e0bf388542d0ac6ca55fcf6568d8cf'  # Replace with your actual API key
CITY = 'Tashkent'
URL = f'http://api.openweathermap.org/data/2.5/weather?q={CITY}&appid={API_KEY}&units=metric'

response = requests.get(URL)
data = response.json()

if response.status_code == 200:
    print("City:", data["name"])
    print("Temperature:", data["main"]["temp"], "°C")
    print("Humidity:", data["main"]["humidity"], "%")
    print("Weather:", data["weather"][0]["description"])
else:
    print("Error fetching weather data:", data.get("message", "Unknown error"))




  #Task: JSON Modification
#Write a program that allows users to add new books, update existing book information, and delete books from the books.json JSON file.

import json

# JSON fayl nomi
FILENAME = 'books.json'

# Kitoblar ro'yxatini o'qish
def read_books():
    try:
        with open(FILENAME, 'r', encoding='utf-8') as file:
            return json.load(file)
    except FileNotFoundError:
        return []

# Kitoblar ro'yxatini saqlash
def save_books(books):
    with open(FILENAME, 'w', encoding='utf-8') as file:
        json.dump(books, file, ensure_ascii=False, indent=4)

# Yangi kitob qo'shish
def add_book(title, author, year):
    books = read_books()
    books.append({"title": title, "author": author, "year": year})
    save_books(books)

# Kitob ma'lumotlarini yangilash
def update_book(index, title, author, year):
    books = read_books()
    if 0 <= index < len(books):
        books[index] = {"title": title, "author": author, "year": year}
        save_books(books)

# Kitobni o'chirish
def delete_book(index):
    books = read_books()
    if 0 <= index < len(books):
        books.pop(index)
        save_books(books)

# Misol foydalanish
add_book("Yangi Kitob", "Muallif", 2023)
update_book(0, "Yangilangan Kitob", "Yangilangan Muallif", 2024)
delete_book(0)

# Kitoblar ro'yxatini chiqarish
books = read_books()
for book in books:
    print("Title:", book["title"])
    print("Author:", book["author"])
    print("Year:", book["year"])
    print("-" * 20)






  #Task: Movie Recommendation System
#Use this url http://www.omdbapi.com/ to fetch information about movies.
#Create a program that asks users for a movie genre and recommends a random movie from that genre.

import requests
import random

API_KEY = '7bbe1cec'  # Replace with your actual API key
BASE_URL = 'http://www.omdbapi.com/'

def get_movies_by_genre(genre):
    response = requests.get(BASE_URL, params={'apikey': API_KEY, 's': genre})
    if response.status_code == 200:
        data = response.json()
        return data.get('Search', [])
    return []

def recommend_movie(genre):
    movies = get_movies_by_genre(genre)
    if movies:
        return random.choice(movies)
    return None

# Foydalanuvchidan janrni so'rash
user_genre = input("Iltimos, film janrini kiriting: ")
recommended_movie = recommend_movie(user_genre)

if recommended_movie:
    print("Tavsiya etilgan film:")
    print("Nom:", recommended_movie["Title"])
    print("Yil:", recommended_movie["Year"])
    print("IMDB reytingi:", recommended_movie["imdbRating"])
else:
    print("Bu janrda film topilmadi.")




  
